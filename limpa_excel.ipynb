{
 "cells": [
  {
   "cell_type": "code",
   "execution_count": null,
   "metadata": {},
   "outputs": [],
   "source": [
    "import pandas as pd\n",
    "import re\n",
    "\n",
    "f_path = r'caminho do arquivo'\n",
    "arq = 'nome do arquivo excel'\n",
    "\n",
    "full_p = f_path + '\\\\' + arq\n",
    "\n",
    "input_file = full_p\n",
    "\n",
    "columns_to_clean = {\n",
    "    'COLUNA1': 'COLUNA1',\n",
    "    'COLUNA2': 'COLUNA2',\n",
    "    'COLUNA3': 'COLUNA3',\n",
    "}\n",
    "\n",
    "output_file = full_p\n",
    "\n",
    "data = pd.read_excel(input_file)\n",
    "\n",
    "\n",
    "for column, cleaning_type in columns_to_clean.items():\n",
    "    if cleaning_type == 'COLUNA1':\n",
    "        data[column] = data[column].apply(lambda x: re.sub(r'[^a-zA-Z\\s\\d]', '', str(x)).upper())\n",
    "    elif cleaning_type == 'COLUNA2':\n",
    "        data[column] = data[column].apply(lambda x: re.sub(r'[^a-zA-Z\\s]', '', re.sub(r'\\d', '', str(x))).upper())\n",
    "    elif cleaning_type == 'COLUNA3':\n",
    "        data[column] = data[column].apply(lambda x: ''.join(str(x).split()).upper())\n",
    "\n",
    "\n",
    "data.to_excel(output_file, index=False)"
   ]
  }
 ],
 "metadata": {
  "kernelspec": {
   "display_name": "Python 3",
   "language": "python",
   "name": "python3"
  },
  "language_info": {
   "codemirror_mode": {
    "name": "ipython",
    "version": 3
   },
   "file_extension": ".py",
   "mimetype": "text/x-python",
   "name": "python",
   "nbconvert_exporter": "python",
   "pygments_lexer": "ipython3",
   "version": "3.7.6"
  }
 },
 "nbformat": 4,
 "nbformat_minor": 4
}
